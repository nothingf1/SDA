{
 "cells": [
  {
   "cell_type": "code",
   "execution_count": 1,
   "id": "847ec4ed-bd9a-453e-8a12-793985dc7b58",
   "metadata": {},
   "outputs": [],
   "source": [
    "import numpy as np\n",
    "import pandas as pd\n",
    "import math\n",
    "import scipy.stats as stats\n",
    "\n",
    "def check_for(sym, arr):\n",
    "    i = [i for i in range(len(arr)) if arr[i] == sym]\n",
    "    if i != []:\n",
    "        return i[0]\n",
    "    else:\n",
    "        return None\n",
    "\n",
    "def z_test(x, u, s, n, alpha):\n",
    "    null_hypo = input(\"Enter Null hypothesis: \")\n",
    "    null_hypo = null_hypo.split(' ')\n",
    "    alternate_hypo = [i for i in null_hypo]\n",
    "    test_type = ''\n",
    "\n",
    "    # Check hypothesis\n",
    "    if check_for('>=', null_hypo):\n",
    "        alternate_hypo[check_for('>=', null_hypo)] = '<'\n",
    "        test_type = 'Left Tailed Test'\n",
    "    elif check_for('<=', null_hypo):\n",
    "        alternate_hypo[check_for('<=', null_hypo)] = '>' \n",
    "        test_type = 'Right Tailed Test' \n",
    "    elif check_for('>', null_hypo):\n",
    "        alternate_hypo[check_for('>', null_hypo)] = '<=' \n",
    "        test_type = 'Left Tailed Test'\n",
    "    elif check_for('<', null_hypo):\n",
    "        alternate_hypo[check_for('<', null_hypo)] = '>='\n",
    "        test_type = 'Right Tailed Test'\n",
    "    elif check_for('=', null_hypo):\n",
    "        alternate_hypo[check_for('=', null_hypo)] = '!='\n",
    "        test_type = 'Two Tailed Test'\n",
    "    else:\n",
    "        print(\"Failed!\")\n",
    "        return\n",
    "\n",
    "    # Calculate z-Score, P-value, Critical Value\n",
    "    z_score = (x - u) / (s / math.sqrt(n))\n",
    "\n",
    "    if test_type == 'Left Tailed Test':\n",
    "        critical_value = stats.norm.ppf(alpha)\n",
    "        p_value = stats.norm.cdf(z_score)\n",
    "    elif test_type == 'Right Tailed Test':\n",
    "        critical_value = stats.norm.ppf(1 - alpha)\n",
    "        p_value = 1 - stats.norm.cdf(z_score)\n",
    "    else:\n",
    "        critical_value = stats.norm.ppf(1 - alpha/2)\n",
    "        p_value = 2 * (1 - stats.norm.cdf(abs(z_score)))\n",
    "\n",
    "    # Print the results\n",
    "    print('Null (Ho) : ', \" \".join(null_hypo))\n",
    "    print('Alternate (Ha) : ', \" \".join(alternate_hypo))\n",
    "    print('Test type : '+test_type)\n",
    "    print('Z-Score : ', z_score)\n",
    "    print('P-value : ', p_value)\n",
    "    print('Critical Value : ', critical_value)\n",
    "\n",
    "    if abs(z_score) > abs(critical_value):\n",
    "        print(\"\\nNull Hypothesis Ho is rejected!\\nAlternate Hypothesis Ho is accepted!\")\n",
    "    else:\n",
    "        print(\"\\nNull Hypothesis Ho is accepted!\") "
   ]
  },
  {
   "cell_type": "code",
   "execution_count": 2,
   "id": "f338f419-0e04-4149-ac19-8bd56a1c1c22",
   "metadata": {},
   "outputs": [],
   "source": [
    "data = [650, 730, 510, 670, 480, 800, 690, 530, 590, 620, 710, 670, 640, 780, 650, 490, 800, 600, 510, 700]\n",
    "arr = np.array(data)"
   ]
  },
  {
   "cell_type": "code",
   "execution_count": 3,
   "id": "e63f61db-7a9c-478c-996e-6fc14f523d38",
   "metadata": {},
   "outputs": [],
   "source": [
    "x = 600\n",
    "u = np.mean(arr)\n",
    "n = len(arr)\n",
    "s = 100\n",
    "alpha = 0.05"
   ]
  },
  {
   "cell_type": "code",
   "execution_count": null,
   "id": "298a382b-85db-4ff7-9c11-a691e2191599",
   "metadata": {},
   "outputs": [],
   "source": []
  }
 ],
 "metadata": {
  "kernelspec": {
   "display_name": "Python 3 (ipykernel)",
   "language": "python",
   "name": "python3"
  },
  "language_info": {
   "codemirror_mode": {
    "name": "ipython",
    "version": 3
   },
   "file_extension": ".py",
   "mimetype": "text/x-python",
   "name": "python",
   "nbconvert_exporter": "python",
   "pygments_lexer": "ipython3",
   "version": "3.11.4"
  }
 },
 "nbformat": 4,
 "nbformat_minor": 5
}
