{
 "cells": [
  {
   "cell_type": "code",
   "execution_count": 1,
   "id": "2bfceead-b42b-4a42-a839-973693e5d974",
   "metadata": {},
   "outputs": [],
   "source": [
    "import numpy as np\n",
    "import pandas as pd\n",
    "import math\n",
    "import scipy.stats as stats"
   ]
  },
  {
   "cell_type": "code",
   "execution_count": 2,
   "id": "e0b6c1cd-ce36-455d-8b10-ef0bddf62628",
   "metadata": {},
   "outputs": [],
   "source": [
    "def check_for(sym, arr):\n",
    "    i = [i for i in range(len(arr)) if arr[i] == sym]\n",
    "    if i != []:\n",
    "        return i[0]\n",
    "    else:\n",
    "        return None"
   ]
  },
  {
   "cell_type": "code",
   "execution_count": 3,
   "id": "d0ba96ef-10cf-4650-ba38-b33a3e4fa7ab",
   "metadata": {},
   "outputs": [],
   "source": [
    "def t_test(x, u, s, n, alpha):\n",
    "    null_hypo = input(\"Enter Null hypothesis: \")\n",
    "    null_hypo = null_hypo.split(' ')\n",
    "    alternate_hypo = [i for i in null_hypo]\n",
    "    test_type = ''\n",
    "\n",
    "#check hypothesis     \n",
    "    if check_for('>=', null_hypo):\n",
    "        alternate_hypo[check_for('>=', null_hypo)] = '<'\n",
    "        test_type = 'Left Tailed Test'\n",
    "    elif check_for('<=', null_hypo):\n",
    "        alternate_hypo[check_for('<=', null_hypo)] = '>' \n",
    "        test_type = 'Right Tailed Test' \n",
    "    elif check_for('>', null_hypo):\n",
    "        alternate_hypo[check_for('>', null_hypo)] = '<=' \n",
    "        test_type = 'Left Tailed Test'\n",
    "    elif check_for('<', null_hypo):\n",
    "        alternate_hypo[check_for('<', null_hypo)] = '>='\n",
    "        test_type = 'Right Tailed Test'\n",
    "    elif check_for('=', null_hypo):\n",
    "        alternate_hypo[check_for('=', null_hypo)] = '!='\n",
    "        test_type = 'Two Tailed Test'\n",
    "    else:\n",
    "        print(\"Failed!\")\n",
    "        return\n",
    "\n",
    "#   calculate DF\n",
    "    df = n-1\n",
    "\n",
    "#   Calculate t-Score, P-value, Critical Value\n",
    "    t_score = (x-u)/(s/math.sqrt(n))\n",
    "\n",
    "    if test_type == 'Left Tailed Test':\n",
    "        critical_value = stats.t.ppf(alpha, df)\n",
    "    elif test_type == 'Right Tailed Test':\n",
    "        critical_value = stats.t.ppf(1-alpha, df)\n",
    "    else:\n",
    "        critical_value = stats.t.ppf(1-alpha, df)\n",
    "\n",
    "    if test_type == 'Left Tailed Test':\n",
    "        p_value = stats.t.cdf(t_score, df)\n",
    "    elif test_type == 'Right Tailed Test':\n",
    "        p_value = stats.t.cdf(t_score, df)\n",
    "    else:\n",
    "        p_value = 2 * (1 - stats.t.cdf(abs(t_score), df))\n",
    "        \n",
    "#   Print the results\n",
    "    print('Null (Ho) : ', \" \".join(null_hypo))\n",
    "    print('Alternate (Ha) : ', \" \".join(alternate_hypo))\n",
    "    print('Test type : '+test_type)\n",
    "    print('T-Score : ', end='')\n",
    "    print(t_score)\n",
    "    print('P-value : ', end='')\n",
    "    print(p_value)\n",
    "    print('Critical Value : ', end='')\n",
    "    print(critical_value)\n",
    "\n",
    "    if abs(t_score) < abs(critical_value): print(\"\\nNull Hypothesis Ho is rejected!\\nAlternate Hypothesis Ho is accepted!\")\n",
    "    else: print(\"\\nNull Hypothesis Ho is accepted!\") "
   ]
  },
  {
   "cell_type": "code",
   "execution_count": 4,
   "id": "bfaaae99-6d9d-41ae-8b18-9534db9c2aac",
   "metadata": {},
   "outputs": [],
   "source": [
    "data = [650, 730, 510, 670, 480, 800, 690, 530, 590, 620, 710, 670, 640, 780, 650, 490, 800, 600, 510, 700]\n",
    "arr = np.array(data)"
   ]
  },
  {
   "cell_type": "code",
   "execution_count": 5,
   "id": "de4c7134-5544-4bd0-b5d6-629abb49b669",
   "metadata": {},
   "outputs": [],
   "source": [
    "x = 600\n",
    "u = np.mean(arr)\n",
    "n = len(arr)\n",
    "s = 100\n",
    "alpha = 0.05"
   ]
  },
  {
   "cell_type": "code",
   "execution_count": 6,
   "id": "604630f6-888f-4f26-9ae2-d8c5ef87ebbe",
   "metadata": {},
   "outputs": [
    {
     "name": "stdin",
     "output_type": "stream",
     "text": [
      "Enter Null hypothesis:  u >= 600\n"
     ]
    },
    {
     "name": "stdout",
     "output_type": "stream",
     "text": [
      "Null (Ho) :  u >= 600\n",
      "Alternate (Ha) :  u < 600\n",
      "Test type : Left Tailed Test\n",
      "T-Score : -1.8335757415498277\n",
      "P-value : 0.041215696612818715\n",
      "Critical Value : -1.7291328115213678\n",
      "\n",
      "Null Hypothesis Ho is accepted!\n"
     ]
    }
   ],
   "source": [
    "t_test(x, u, s, n, alpha)"
   ]
  }
 ],
 "metadata": {
  "kernelspec": {
   "display_name": "Python 3 (ipykernel)",
   "language": "python",
   "name": "python3"
  },
  "language_info": {
   "codemirror_mode": {
    "name": "ipython",
    "version": 3
   },
   "file_extension": ".py",
   "mimetype": "text/x-python",
   "name": "python",
   "nbconvert_exporter": "python",
   "pygments_lexer": "ipython3",
   "version": "3.11.4"
  }
 },
 "nbformat": 4,
 "nbformat_minor": 5
}
