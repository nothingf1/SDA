{
 "cells": [
  {
   "cell_type": "code",
   "execution_count": 21,
   "id": "257bb6c4-5246-4d91-8f55-9adfb6242742",
   "metadata": {},
   "outputs": [],
   "source": [
    "import pandas as pd\n",
    "from imblearn.over_sampling import SMOTE\n",
    "import matplotlib.pyplot as plt"
   ]
  },
  {
   "cell_type": "code",
   "execution_count": 22,
   "id": "7ad3a017-4162-4835-856f-1e227246bb9b",
   "metadata": {},
   "outputs": [],
   "source": [
    "df = pd.read_csv('HEALTHDATA.csv')[['HEIGHT', 'WEIGHT', 'CLASS']]"
   ]
  },
  {
   "cell_type": "code",
   "execution_count": 23,
   "id": "b3287ea5-aee2-4ff7-98e3-9ab3eb9861da",
   "metadata": {},
   "outputs": [
    {
     "data": {
      "text/html": [
       "<div>\n",
       "<style scoped>\n",
       "    .dataframe tbody tr th:only-of-type {\n",
       "        vertical-align: middle;\n",
       "    }\n",
       "\n",
       "    .dataframe tbody tr th {\n",
       "        vertical-align: top;\n",
       "    }\n",
       "\n",
       "    .dataframe thead th {\n",
       "        text-align: right;\n",
       "    }\n",
       "</style>\n",
       "<table border=\"1\" class=\"dataframe\">\n",
       "  <thead>\n",
       "    <tr style=\"text-align: right;\">\n",
       "      <th></th>\n",
       "      <th>HEIGHT</th>\n",
       "      <th>WEIGHT</th>\n",
       "      <th>CLASS</th>\n",
       "    </tr>\n",
       "  </thead>\n",
       "  <tbody>\n",
       "    <tr>\n",
       "      <th>0</th>\n",
       "      <td>5.6</td>\n",
       "      <td>55</td>\n",
       "      <td>HEALTHY</td>\n",
       "    </tr>\n",
       "    <tr>\n",
       "      <th>1</th>\n",
       "      <td>5.1</td>\n",
       "      <td>65</td>\n",
       "      <td>OBESE</td>\n",
       "    </tr>\n",
       "    <tr>\n",
       "      <th>2</th>\n",
       "      <td>5.3</td>\n",
       "      <td>52</td>\n",
       "      <td>HEALTHY</td>\n",
       "    </tr>\n",
       "    <tr>\n",
       "      <th>3</th>\n",
       "      <td>5.2</td>\n",
       "      <td>80</td>\n",
       "      <td>OBESE</td>\n",
       "    </tr>\n",
       "    <tr>\n",
       "      <th>4</th>\n",
       "      <td>5.3</td>\n",
       "      <td>75</td>\n",
       "      <td>OBESE</td>\n",
       "    </tr>\n",
       "  </tbody>\n",
       "</table>\n",
       "</div>"
      ],
      "text/plain": [
       "   HEIGHT  WEIGHT    CLASS\n",
       "0     5.6      55  HEALTHY\n",
       "1     5.1      65    OBESE\n",
       "2     5.3      52  HEALTHY\n",
       "3     5.2      80    OBESE\n",
       "4     5.3      75    OBESE"
      ]
     },
     "execution_count": 23,
     "metadata": {},
     "output_type": "execute_result"
    }
   ],
   "source": [
    "df.head()"
   ]
  },
  {
   "cell_type": "code",
   "execution_count": 24,
   "id": "42d6bc2d-d0a4-446d-8bfc-46b0914f21e5",
   "metadata": {},
   "outputs": [],
   "source": [
    "df['CLASS'] = df['CLASS'].map({'HEALTHY': 0, 'OBESE': 1})"
   ]
  },
  {
   "cell_type": "code",
   "execution_count": 26,
   "id": "c7bda7d7-f89f-4040-a72a-44ac869c0192",
   "metadata": {},
   "outputs": [],
   "source": [
    "count = df['CLASS'].value_counts()"
   ]
  },
  {
   "cell_type": "code",
   "execution_count": 27,
   "id": "fb717369-31ee-4b3d-a744-0548fc2b63f9",
   "metadata": {},
   "outputs": [
    {
     "data": {
      "text/plain": [
       "<BarContainer object of 2 artists>"
      ]
     },
     "execution_count": 27,
     "metadata": {},
     "output_type": "execute_result"
    },
    {
     "data": {
      "image/png": "[encoded data removed]",
      "text/plain": [
       "<Figure size 640x480 with 1 Axes>"
      ]
     },
     "metadata": {},
     "output_type": "display_data"
    }
   ],
   "source": [
    "plt.bar(count.index, count.values)"
   ]
  },
  {
   "cell_type": "code",
   "execution_count": 28,
   "id": "45940b7c-d356-4397-bbd3-a9ded75fc9cf",
   "metadata": {},
   "outputs": [],
   "source": [
    "x = df.drop('CLASS', axis=1)\n",
    "y = df['CLASS']"
   ]
  },
  {
   "cell_type": "code",
   "execution_count": 29,
   "id": "30bd8afe-defd-442a-9c3f-b51af0ad410c",
   "metadata": {},
   "outputs": [],
   "source": [
    "smote = SMOTE()\n",
    "\n",
    "x_new, y_new = smote.fit_resample(x,y)"
   ]
  },
  {
   "cell_type": "code",
   "execution_count": 33,
   "id": "08779a75-3197-41fd-a77b-0a2ea0a44eab",
   "metadata": {},
   "outputs": [],
   "source": [
    "new_df = pd.concat([pd.DataFrame(x_new, columns=x.columns), pd.DataFrame(y_new, columns=['CLASS'])], axis=1)"
   ]
  },
  {
   "cell_type": "code",
   "execution_count": 34,
   "id": "f15b892c-b4d9-45e0-b32b-b3ce3e1f4eb2",
   "metadata": {},
   "outputs": [],
   "source": [
    "vendor = new_df['CLASS'].value_counts()"
   ]
  },
  {
   "cell_type": "code",
   "execution_count": 35,
   "id": "55c2dcf3-6bd8-4405-8ada-c5da5c3adb72",
   "metadata": {},
   "outputs": [
    {
     "data": {
      "text/plain": [
       "<BarContainer object of 2 artists>"
      ]
     },
     "execution_count": 35,
     "metadata": {},
     "output_type": "execute_result"
    },
    {
     "data": {
      "image/png": "[encoded data removed]",
      "text/plain": [
       "<Figure size 640x480 with 1 Axes>"
      ]
     },
     "metadata": {},
     "output_type": "display_data"
    }
   ],
   "source": [
    "plt.bar(vendor.index, vendor.values)"
   ]
  },
  {
   "cell_type": "code",
   "execution_count": null,
   "id": "20184e33-5ef2-457c-a8a2-9e3abc7978d5",
   "metadata": {},
   "outputs": [],
   "source": []
  }
 ],
 "metadata": {
  "kernelspec": {
   "display_name": "Python 3 (ipykernel)",
   "language": "python",
   "name": "python3"
  },
  "language_info": {
   "codemirror_mode": {
    "name": "ipython",
    "version": 3
   },
   "file_extension": ".py",
   "mimetype": "text/x-python",
   "name": "python",
   "nbconvert_exporter": "python",
   "pygments_lexer": "ipython3",
   "version": "3.11.4"
  }
 },
 "nbformat": 4,
 "nbformat_minor": 5
}
