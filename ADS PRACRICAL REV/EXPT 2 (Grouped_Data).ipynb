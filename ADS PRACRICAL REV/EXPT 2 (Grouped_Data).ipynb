{
 "cells": [
  {
   "cell_type": "code",
   "execution_count": 1,
   "id": "96e0ffe1-8ed3-4703-a7af-fffad56bd637",
   "metadata": {
    "id": "96e0ffe1-8ed3-4703-a7af-fffad56bd637"
   },
   "outputs": [],
   "source": [
    "import pandas as pd\n",
    "import numpy as np\n",
    "import math"
   ]
  },
  {
   "cell_type": "code",
   "execution_count": 2,
   "id": "d441444d-6eea-431d-8028-d96e5b1c0205",
   "metadata": {
    "id": "d441444d-6eea-431d-8028-d96e5b1c0205"
   },
   "outputs": [],
   "source": [
    "df = pd.read_csv(\"book.csv\")"
   ]
  },
  {
   "cell_type": "code",
   "execution_count": 3,
   "id": "c1db0c10-d30f-43a0-8291-b6d151c3f634",
   "metadata": {
    "colab": {
     "base_uri": "https://localhost:8080/",
     "height": 206
    },
    "id": "c1db0c10-d30f-43a0-8291-b6d151c3f634",
    "outputId": "b686a4e5-5911-4eac-bf55-e03f2e156655"
   },
   "outputs": [
    {
     "data": {
      "text/html": [
       "<div>\n",
       "<style scoped>\n",
       "    .dataframe tbody tr th:only-of-type {\n",
       "        vertical-align: middle;\n",
       "    }\n",
       "\n",
       "    .dataframe tbody tr th {\n",
       "        vertical-align: top;\n",
       "    }\n",
       "\n",
       "    .dataframe thead th {\n",
       "        text-align: right;\n",
       "    }\n",
       "</style>\n",
       "<table border=\"1\" class=\"dataframe\">\n",
       "  <thead>\n",
       "    <tr style=\"text-align: right;\">\n",
       "      <th></th>\n",
       "      <th>trip_distance</th>\n",
       "      <th>total_ammount</th>\n",
       "    </tr>\n",
       "  </thead>\n",
       "  <tbody>\n",
       "    <tr>\n",
       "      <th>0</th>\n",
       "      <td>0 - 5</td>\n",
       "      <td>51</td>\n",
       "    </tr>\n",
       "    <tr>\n",
       "      <th>1</th>\n",
       "      <td>5-10</td>\n",
       "      <td>50</td>\n",
       "    </tr>\n",
       "    <tr>\n",
       "      <th>2</th>\n",
       "      <td>10-15</td>\n",
       "      <td>50</td>\n",
       "    </tr>\n",
       "    <tr>\n",
       "      <th>3</th>\n",
       "      <td>15-20</td>\n",
       "      <td>50</td>\n",
       "    </tr>\n",
       "    <tr>\n",
       "      <th>4</th>\n",
       "      <td>20-25</td>\n",
       "      <td>50</td>\n",
       "    </tr>\n",
       "  </tbody>\n",
       "</table>\n",
       "</div>"
      ],
      "text/plain": [
       "  trip_distance  total_ammount\n",
       "0         0 - 5             51\n",
       "1          5-10             50\n",
       "2         10-15             50\n",
       "3         15-20             50\n",
       "4         20-25             50"
      ]
     },
     "execution_count": 3,
     "metadata": {},
     "output_type": "execute_result"
    }
   ],
   "source": [
    "df.head()"
   ]
  },
  {
   "cell_type": "code",
   "execution_count": 4,
   "id": "d0ec01b8-a9f8-493f-af46-2227b33f4adc",
   "metadata": {
    "id": "d0ec01b8-a9f8-493f-af46-2227b33f4adc"
   },
   "outputs": [],
   "source": [
    "def low_high(df, column_name):\n",
    "    df['low'] = df.apply(lambda row: int(row[column_name][0]), axis=1)\n",
    "    df['high'] = df.apply(lambda row: int(row[column_name].split('-')[-1]), axis=1)"
   ]
  },
  {
   "cell_type": "code",
   "execution_count": 5,
   "id": "b5d1aa68-797b-4fa2-b1b5-ae2b956526a2",
   "metadata": {
    "id": "b5d1aa68-797b-4fa2-b1b5-ae2b956526a2"
   },
   "outputs": [],
   "source": [
    "low_high(df, 'trip_distance')"
   ]
  },
  {
   "cell_type": "markdown",
   "id": "5D-WHd_WTGwb",
   "metadata": {
    "id": "5D-WHd_WTGwb"
   },
   "source": [
    "Mean for Grouped Data"
   ]
  },
  {
   "cell_type": "code",
   "execution_count": 6,
   "id": "a9d1c428-28d5-46ae-9f0a-16f4e4bfd0c5",
   "metadata": {
    "colab": {
     "base_uri": "https://localhost:8080/",
     "height": 582
    },
    "id": "a9d1c428-28d5-46ae-9f0a-16f4e4bfd0c5",
    "outputId": "529aebf1-9f23-4540-99fb-1352ee9ba7a5"
   },
   "outputs": [
    {
     "data": {
      "text/html": [
       "<div>\n",
       "<style scoped>\n",
       "    .dataframe tbody tr th:only-of-type {\n",
       "        vertical-align: middle;\n",
       "    }\n",
       "\n",
       "    .dataframe tbody tr th {\n",
       "        vertical-align: top;\n",
       "    }\n",
       "\n",
       "    .dataframe thead th {\n",
       "        text-align: right;\n",
       "    }\n",
       "</style>\n",
       "<table border=\"1\" class=\"dataframe\">\n",
       "  <thead>\n",
       "    <tr style=\"text-align: right;\">\n",
       "      <th></th>\n",
       "      <th>trip_distance</th>\n",
       "      <th>total_ammount</th>\n",
       "      <th>low</th>\n",
       "      <th>high</th>\n",
       "      <th>classmark</th>\n",
       "      <th>f.x</th>\n",
       "    </tr>\n",
       "  </thead>\n",
       "  <tbody>\n",
       "    <tr>\n",
       "      <th>0</th>\n",
       "      <td>0 - 5</td>\n",
       "      <td>51</td>\n",
       "      <td>0</td>\n",
       "      <td>5</td>\n",
       "      <td>2.5</td>\n",
       "      <td>127.5</td>\n",
       "    </tr>\n",
       "    <tr>\n",
       "      <th>1</th>\n",
       "      <td>5-10</td>\n",
       "      <td>50</td>\n",
       "      <td>5</td>\n",
       "      <td>10</td>\n",
       "      <td>7.5</td>\n",
       "      <td>375.0</td>\n",
       "    </tr>\n",
       "    <tr>\n",
       "      <th>2</th>\n",
       "      <td>10-15</td>\n",
       "      <td>50</td>\n",
       "      <td>1</td>\n",
       "      <td>15</td>\n",
       "      <td>8.0</td>\n",
       "      <td>400.0</td>\n",
       "    </tr>\n",
       "    <tr>\n",
       "      <th>3</th>\n",
       "      <td>15-20</td>\n",
       "      <td>50</td>\n",
       "      <td>1</td>\n",
       "      <td>20</td>\n",
       "      <td>10.5</td>\n",
       "      <td>525.0</td>\n",
       "    </tr>\n",
       "    <tr>\n",
       "      <th>4</th>\n",
       "      <td>20-25</td>\n",
       "      <td>50</td>\n",
       "      <td>2</td>\n",
       "      <td>25</td>\n",
       "      <td>13.5</td>\n",
       "      <td>675.0</td>\n",
       "    </tr>\n",
       "    <tr>\n",
       "      <th>5</th>\n",
       "      <td>25-30</td>\n",
       "      <td>53</td>\n",
       "      <td>2</td>\n",
       "      <td>30</td>\n",
       "      <td>16.0</td>\n",
       "      <td>848.0</td>\n",
       "    </tr>\n",
       "    <tr>\n",
       "      <th>6</th>\n",
       "      <td>30-35</td>\n",
       "      <td>49</td>\n",
       "      <td>3</td>\n",
       "      <td>35</td>\n",
       "      <td>19.0</td>\n",
       "      <td>931.0</td>\n",
       "    </tr>\n",
       "    <tr>\n",
       "      <th>7</th>\n",
       "      <td>35-40</td>\n",
       "      <td>47</td>\n",
       "      <td>3</td>\n",
       "      <td>40</td>\n",
       "      <td>21.5</td>\n",
       "      <td>1010.5</td>\n",
       "    </tr>\n",
       "    <tr>\n",
       "      <th>8</th>\n",
       "      <td>40-45</td>\n",
       "      <td>19</td>\n",
       "      <td>4</td>\n",
       "      <td>45</td>\n",
       "      <td>24.5</td>\n",
       "      <td>465.5</td>\n",
       "    </tr>\n",
       "    <tr>\n",
       "      <th>9</th>\n",
       "      <td>45-50</td>\n",
       "      <td>22</td>\n",
       "      <td>4</td>\n",
       "      <td>50</td>\n",
       "      <td>27.0</td>\n",
       "      <td>594.0</td>\n",
       "    </tr>\n",
       "    <tr>\n",
       "      <th>10</th>\n",
       "      <td>50-55</td>\n",
       "      <td>14</td>\n",
       "      <td>5</td>\n",
       "      <td>55</td>\n",
       "      <td>30.0</td>\n",
       "      <td>420.0</td>\n",
       "    </tr>\n",
       "    <tr>\n",
       "      <th>11</th>\n",
       "      <td>55-60</td>\n",
       "      <td>6</td>\n",
       "      <td>5</td>\n",
       "      <td>60</td>\n",
       "      <td>32.5</td>\n",
       "      <td>195.0</td>\n",
       "    </tr>\n",
       "    <tr>\n",
       "      <th>12</th>\n",
       "      <td>60-65</td>\n",
       "      <td>7</td>\n",
       "      <td>6</td>\n",
       "      <td>65</td>\n",
       "      <td>35.5</td>\n",
       "      <td>248.5</td>\n",
       "    </tr>\n",
       "    <tr>\n",
       "      <th>13</th>\n",
       "      <td>65-70</td>\n",
       "      <td>6</td>\n",
       "      <td>6</td>\n",
       "      <td>70</td>\n",
       "      <td>38.0</td>\n",
       "      <td>228.0</td>\n",
       "    </tr>\n",
       "    <tr>\n",
       "      <th>14</th>\n",
       "      <td>70-75</td>\n",
       "      <td>6</td>\n",
       "      <td>7</td>\n",
       "      <td>75</td>\n",
       "      <td>41.0</td>\n",
       "      <td>246.0</td>\n",
       "    </tr>\n",
       "    <tr>\n",
       "      <th>15</th>\n",
       "      <td>75-80</td>\n",
       "      <td>2</td>\n",
       "      <td>7</td>\n",
       "      <td>80</td>\n",
       "      <td>43.5</td>\n",
       "      <td>87.0</td>\n",
       "    </tr>\n",
       "    <tr>\n",
       "      <th>16</th>\n",
       "      <td>80-85</td>\n",
       "      <td>1</td>\n",
       "      <td>8</td>\n",
       "      <td>85</td>\n",
       "      <td>46.5</td>\n",
       "      <td>46.5</td>\n",
       "    </tr>\n",
       "  </tbody>\n",
       "</table>\n",
       "</div>"
      ],
      "text/plain": [
       "   trip_distance  total_ammount  low  high  classmark     f.x\n",
       "0          0 - 5             51    0     5        2.5   127.5\n",
       "1           5-10             50    5    10        7.5   375.0\n",
       "2          10-15             50    1    15        8.0   400.0\n",
       "3          15-20             50    1    20       10.5   525.0\n",
       "4          20-25             50    2    25       13.5   675.0\n",
       "5          25-30             53    2    30       16.0   848.0\n",
       "6          30-35             49    3    35       19.0   931.0\n",
       "7          35-40             47    3    40       21.5  1010.5\n",
       "8          40-45             19    4    45       24.5   465.5\n",
       "9          45-50             22    4    50       27.0   594.0\n",
       "10         50-55             14    5    55       30.0   420.0\n",
       "11         55-60              6    5    60       32.5   195.0\n",
       "12         60-65              7    6    65       35.5   248.5\n",
       "13         65-70              6    6    70       38.0   228.0\n",
       "14         70-75              6    7    75       41.0   246.0\n",
       "15         75-80              2    7    80       43.5    87.0\n",
       "16         80-85              1    8    85       46.5    46.5"
      ]
     },
     "execution_count": 6,
     "metadata": {},
     "output_type": "execute_result"
    }
   ],
   "source": [
    "# calculating classmark(x) and f.x\n",
    "df1 = df.copy()\n",
    "df1['classmark'] = (df1['low'] + df1['high'])/2\n",
    "df1['f.x'] = df1.apply(lambda row: row['total_ammount']*row['classmark'], axis=1)\n",
    "df1"
   ]
  },
  {
   "cell_type": "code",
   "execution_count": 7,
   "id": "96e87f74-5576-41b6-aea7-24c91b364e44",
   "metadata": {
    "colab": {
     "base_uri": "https://localhost:8080/"
    },
    "id": "96e87f74-5576-41b6-aea7-24c91b364e44",
    "outputId": "a0292d13-2b9e-4acf-866c-dee49ba35b76"
   },
   "outputs": [
    {
     "name": "stdout",
     "output_type": "stream",
     "text": [
      "Mean: 15.367494824016562\n"
     ]
    }
   ],
   "source": [
    "# applying the mean formula\n",
    "mean = df1['f.x'].sum() / df1['total_ammount'].sum()\n",
    "print(f'Mean: {mean}')"
   ]
  },
  {
   "cell_type": "markdown",
   "id": "isf-Q9_LTQwm",
   "metadata": {
    "id": "isf-Q9_LTQwm"
   },
   "source": [
    "Median for Grouped Data"
   ]
  },
  {
   "cell_type": "code",
   "execution_count": 8,
   "id": "d5876fd8-af6d-4b50-bba7-fbe2325c19f7",
   "metadata": {
    "colab": {
     "base_uri": "https://localhost:8080/",
     "height": 582
    },
    "id": "d5876fd8-af6d-4b50-bba7-fbe2325c19f7",
    "outputId": "96f36bdf-c9de-4e38-bc31-0d6242dd45f3"
   },
   "outputs": [
    {
     "data": {
      "text/html": [
       "<div>\n",
       "<style scoped>\n",
       "    .dataframe tbody tr th:only-of-type {\n",
       "        vertical-align: middle;\n",
       "    }\n",
       "\n",
       "    .dataframe tbody tr th {\n",
       "        vertical-align: top;\n",
       "    }\n",
       "\n",
       "    .dataframe thead th {\n",
       "        text-align: right;\n",
       "    }\n",
       "</style>\n",
       "<table border=\"1\" class=\"dataframe\">\n",
       "  <thead>\n",
       "    <tr style=\"text-align: right;\">\n",
       "      <th></th>\n",
       "      <th>trip_distance</th>\n",
       "      <th>total_ammount</th>\n",
       "      <th>low</th>\n",
       "      <th>high</th>\n",
       "      <th>cf</th>\n",
       "    </tr>\n",
       "  </thead>\n",
       "  <tbody>\n",
       "    <tr>\n",
       "      <th>0</th>\n",
       "      <td>0 - 5</td>\n",
       "      <td>51</td>\n",
       "      <td>0</td>\n",
       "      <td>5</td>\n",
       "      <td>51</td>\n",
       "    </tr>\n",
       "    <tr>\n",
       "      <th>1</th>\n",
       "      <td>5-10</td>\n",
       "      <td>50</td>\n",
       "      <td>5</td>\n",
       "      <td>10</td>\n",
       "      <td>101</td>\n",
       "    </tr>\n",
       "    <tr>\n",
       "      <th>2</th>\n",
       "      <td>10-15</td>\n",
       "      <td>50</td>\n",
       "      <td>1</td>\n",
       "      <td>15</td>\n",
       "      <td>151</td>\n",
       "    </tr>\n",
       "    <tr>\n",
       "      <th>3</th>\n",
       "      <td>15-20</td>\n",
       "      <td>50</td>\n",
       "      <td>1</td>\n",
       "      <td>20</td>\n",
       "      <td>201</td>\n",
       "    </tr>\n",
       "    <tr>\n",
       "      <th>4</th>\n",
       "      <td>20-25</td>\n",
       "      <td>50</td>\n",
       "      <td>2</td>\n",
       "      <td>25</td>\n",
       "      <td>251</td>\n",
       "    </tr>\n",
       "    <tr>\n",
       "      <th>5</th>\n",
       "      <td>25-30</td>\n",
       "      <td>53</td>\n",
       "      <td>2</td>\n",
       "      <td>30</td>\n",
       "      <td>304</td>\n",
       "    </tr>\n",
       "    <tr>\n",
       "      <th>6</th>\n",
       "      <td>30-35</td>\n",
       "      <td>49</td>\n",
       "      <td>3</td>\n",
       "      <td>35</td>\n",
       "      <td>353</td>\n",
       "    </tr>\n",
       "    <tr>\n",
       "      <th>7</th>\n",
       "      <td>35-40</td>\n",
       "      <td>47</td>\n",
       "      <td>3</td>\n",
       "      <td>40</td>\n",
       "      <td>400</td>\n",
       "    </tr>\n",
       "    <tr>\n",
       "      <th>8</th>\n",
       "      <td>40-45</td>\n",
       "      <td>19</td>\n",
       "      <td>4</td>\n",
       "      <td>45</td>\n",
       "      <td>419</td>\n",
       "    </tr>\n",
       "    <tr>\n",
       "      <th>9</th>\n",
       "      <td>45-50</td>\n",
       "      <td>22</td>\n",
       "      <td>4</td>\n",
       "      <td>50</td>\n",
       "      <td>441</td>\n",
       "    </tr>\n",
       "    <tr>\n",
       "      <th>10</th>\n",
       "      <td>50-55</td>\n",
       "      <td>14</td>\n",
       "      <td>5</td>\n",
       "      <td>55</td>\n",
       "      <td>455</td>\n",
       "    </tr>\n",
       "    <tr>\n",
       "      <th>11</th>\n",
       "      <td>55-60</td>\n",
       "      <td>6</td>\n",
       "      <td>5</td>\n",
       "      <td>60</td>\n",
       "      <td>461</td>\n",
       "    </tr>\n",
       "    <tr>\n",
       "      <th>12</th>\n",
       "      <td>60-65</td>\n",
       "      <td>7</td>\n",
       "      <td>6</td>\n",
       "      <td>65</td>\n",
       "      <td>468</td>\n",
       "    </tr>\n",
       "    <tr>\n",
       "      <th>13</th>\n",
       "      <td>65-70</td>\n",
       "      <td>6</td>\n",
       "      <td>6</td>\n",
       "      <td>70</td>\n",
       "      <td>474</td>\n",
       "    </tr>\n",
       "    <tr>\n",
       "      <th>14</th>\n",
       "      <td>70-75</td>\n",
       "      <td>6</td>\n",
       "      <td>7</td>\n",
       "      <td>75</td>\n",
       "      <td>480</td>\n",
       "    </tr>\n",
       "    <tr>\n",
       "      <th>15</th>\n",
       "      <td>75-80</td>\n",
       "      <td>2</td>\n",
       "      <td>7</td>\n",
       "      <td>80</td>\n",
       "      <td>482</td>\n",
       "    </tr>\n",
       "    <tr>\n",
       "      <th>16</th>\n",
       "      <td>80-85</td>\n",
       "      <td>1</td>\n",
       "      <td>8</td>\n",
       "      <td>85</td>\n",
       "      <td>483</td>\n",
       "    </tr>\n",
       "  </tbody>\n",
       "</table>\n",
       "</div>"
      ],
      "text/plain": [
       "   trip_distance  total_ammount  low  high   cf\n",
       "0          0 - 5             51    0     5   51\n",
       "1           5-10             50    5    10  101\n",
       "2          10-15             50    1    15  151\n",
       "3          15-20             50    1    20  201\n",
       "4          20-25             50    2    25  251\n",
       "5          25-30             53    2    30  304\n",
       "6          30-35             49    3    35  353\n",
       "7          35-40             47    3    40  400\n",
       "8          40-45             19    4    45  419\n",
       "9          45-50             22    4    50  441\n",
       "10         50-55             14    5    55  455\n",
       "11         55-60              6    5    60  461\n",
       "12         60-65              7    6    65  468\n",
       "13         65-70              6    6    70  474\n",
       "14         70-75              6    7    75  480\n",
       "15         75-80              2    7    80  482\n",
       "16         80-85              1    8    85  483"
      ]
     },
     "execution_count": 8,
     "metadata": {},
     "output_type": "execute_result"
    }
   ],
   "source": [
    "df2 = df.copy()\n",
    "\n",
    "# calculating cummalative frequency\n",
    "c = 0\n",
    "def calculate_cf(row):\n",
    "    global c\n",
    "    if c == 0: c = row['total_ammount']\n",
    "    else: c = c + row['total_ammount']\n",
    "    return c\n",
    "\n",
    "# calculating N/2\n",
    "n_by_2 = df2['total_ammount'].sum()/2\n",
    "\n",
    "df2['cf'] = df2.apply(lambda row: calculate_cf(row), axis=1)\n",
    "df2"
   ]
  },
  {
   "cell_type": "code",
   "execution_count": 9,
   "id": "0e298b6d-2932-4c42-994f-16d2535375fd",
   "metadata": {
    "id": "0e298b6d-2932-4c42-994f-16d2535375fd"
   },
   "outputs": [],
   "source": [
    "def get_median_class():\n",
    "    for index, row in df2.iterrows():\n",
    "        if row['cf'] > n_by_2:\n",
    "            return row, index\n",
    "\n",
    "median_class, class_index = get_median_class()"
   ]
  },
  {
   "cell_type": "code",
   "execution_count": 10,
   "id": "367370b9-346b-4ba1-acb4-f1201ad77304",
   "metadata": {
    "colab": {
     "base_uri": "https://localhost:8080/"
    },
    "id": "367370b9-346b-4ba1-acb4-f1201ad77304",
    "outputId": "e4ba5151-90a1-4022-c36d-b11f84f606e2"
   },
   "outputs": [
    {
     "name": "stdout",
     "output_type": "stream",
     "text": [
      "Median: 20.630000000000003\n"
     ]
    },
    {
     "name": "stderr",
     "output_type": "stream",
     "text": [
      "C:\\Users\\HEMANT\\AppData\\Local\\Temp\\ipykernel_5704\\2675843856.py:3: FutureWarning: Calling int on a single element Series is deprecated and will raise a TypeError in the future. Use int(ser.iloc[0]) instead\n",
      "  cf = int(df2.loc[class_index - 1: class_index - 1]['cf'])\n"
     ]
    }
   ],
   "source": [
    "# applying the median formula\n",
    "L = median_class['low']\n",
    "cf = int(df2.loc[class_index - 1: class_index - 1]['cf'])\n",
    "f = median_class['total_ammount']\n",
    "h = median_class['high'] - median_class['low']\n",
    "\n",
    "median = L + ((n_by_2 - cf) / f)*h\n",
    "print(f'Median: {median}')"
   ]
  },
  {
   "cell_type": "markdown",
   "id": "vkneezYWTXnG",
   "metadata": {
    "id": "vkneezYWTXnG"
   },
   "source": [
    "Mode for Grouped Data"
   ]
  },
  {
   "cell_type": "code",
   "execution_count": 11,
   "id": "2eeeb650-7a14-4b60-a3d4-ed81f76b8d8c",
   "metadata": {
    "id": "2eeeb650-7a14-4b60-a3d4-ed81f76b8d8c"
   },
   "outputs": [],
   "source": [
    "df3 = df.copy()\n",
    "\n",
    "def get_modal_class():\n",
    "    for index, row in df3.iterrows():\n",
    "        if row['total_ammount'] == df3['total_ammount'].max():\n",
    "            return row, index\n",
    "\n",
    "modal_class, class_index_mode = get_modal_class()"
   ]
  },
  {
   "cell_type": "code",
   "execution_count": 12,
   "id": "71ff2c19-fef0-41ae-92a6-9370c31f6fd6",
   "metadata": {
    "colab": {
     "base_uri": "https://localhost:8080/"
    },
    "id": "71ff2c19-fef0-41ae-92a6-9370c31f6fd6",
    "outputId": "fc831b19-0e32-4a8a-e3a1-7bda21f20e21"
   },
   "outputs": [
    {
     "name": "stdout",
     "output_type": "stream",
     "text": [
      "2 50 53 49 28\n"
     ]
    },
    {
     "name": "stderr",
     "output_type": "stream",
     "text": [
      "C:\\Users\\HEMANT\\AppData\\Local\\Temp\\ipykernel_5704\\700682977.py:3: FutureWarning: Calling int on a single element Series is deprecated and will raise a TypeError in the future. Use int(ser.iloc[0]) instead\n",
      "  f0 = int(df3.loc[class_index_mode - 1: class_index_mode - 1]['total_ammount'])\n",
      "C:\\Users\\HEMANT\\AppData\\Local\\Temp\\ipykernel_5704\\700682977.py:5: FutureWarning: Calling int on a single element Series is deprecated and will raise a TypeError in the future. Use int(ser.iloc[0]) instead\n",
      "  f2 = int(df3.loc[class_index_mode + 1: class_index_mode + 1]['total_ammount'])\n"
     ]
    }
   ],
   "source": [
    "# applying the mode formula\n",
    "L = modal_class['low']\n",
    "f0 = int(df3.loc[class_index_mode - 1: class_index_mode - 1]['total_ammount'])\n",
    "f1 = int(modal_class['total_ammount'])\n",
    "f2 = int(df3.loc[class_index_mode + 1: class_index_mode + 1]['total_ammount'])\n",
    "h = modal_class['high'] - modal_class['low']\n",
    "print(L, f0, f1, f2, h)"
   ]
  },
  {
   "cell_type": "code",
   "execution_count": 13,
   "id": "baebe31b-3862-4486-97b3-e75e2de88975",
   "metadata": {
    "colab": {
     "base_uri": "https://localhost:8080/"
    },
    "id": "baebe31b-3862-4486-97b3-e75e2de88975",
    "outputId": "cc446d1c-8c51-4bab-96c6-323dadd4eba2"
   },
   "outputs": [
    {
     "name": "stdout",
     "output_type": "stream",
     "text": [
      "Mode: 14.0\n"
     ]
    }
   ],
   "source": [
    "mode = L + ((f1 - f0) / (2*f1 - f0 - f2))*h\n",
    "print(f'Mode: {mode}')"
   ]
  },
  {
   "cell_type": "markdown",
   "id": "sGG6ZQvCTdC6",
   "metadata": {
    "id": "sGG6ZQvCTdC6"
   },
   "source": [
    "Variance & Standard Deviation"
   ]
  },
  {
   "cell_type": "code",
   "execution_count": 14,
   "id": "bdd44310-10f8-46ca-b387-1028d2421019",
   "metadata": {
    "colab": {
     "base_uri": "https://localhost:8080/"
    },
    "id": "bdd44310-10f8-46ca-b387-1028d2421019",
    "outputId": "d496c79e-fe6b-4cd7-969c-f73684e8db79"
   },
   "outputs": [
    {
     "name": "stdout",
     "output_type": "stream",
     "text": [
      "Variance: 2339.559980513945\n",
      "Standard Deviation: 48.368998134279614\n"
     ]
    }
   ],
   "source": [
    "df4 = df1.copy()\n",
    "\n",
    "df4['f.(x-x_mean)^2'] = df4['total_ammount'] * (df4['classmark'] - mean)*(df4['classmark'] - mean)\n",
    "\n",
    "variance = df4['f.(x-x_mean)^2'].sum() / df4.count().max()\n",
    "standard_deviation = math.sqrt(variance)\n",
    "print(f'Variance: {variance}')\n",
    "print(f'Standard Deviation: {standard_deviation}')"
   ]
  },
  {
   "cell_type": "markdown",
   "id": "8SCtVTYhTh8T",
   "metadata": {
    "id": "8SCtVTYhTh8T"
   },
   "source": [
    "Skewness"
   ]
  },
  {
   "cell_type": "code",
   "execution_count": 15,
   "id": "d9850c44-505c-402c-a4ff-20a526de5491",
   "metadata": {
    "colab": {
     "base_uri": "https://localhost:8080/"
    },
    "id": "d9850c44-505c-402c-a4ff-20a526de5491",
    "outputId": "a3bebc02-ab83-4661-a676-8f2079deb6df"
   },
   "outputs": [
    {
     "name": "stdout",
     "output_type": "stream",
     "text": [
      "Skewness: 0.02827213456479274\n",
      "It is little positively skewed!\n"
     ]
    }
   ],
   "source": [
    "skewness = (mean - mode) / standard_deviation\n",
    "print(f'Skewness: {skewness}')\n",
    "if skewness > 0 and skewness < 0.4:\n",
    "    print('It is little positively skewed!')\n",
    "elif skewness >= 0.4 and skewness < 1:\n",
    "    print('It is moderately positively skewed!')\n",
    "elif skewness >= 1:\n",
    "    print('It is highly positively skewed!')\n",
    "elif skewness > -0.4 and skewness < 0:\n",
    "    print('It is little negatively skewed!')\n",
    "elif skewness > -1 and skewness <= 0.4:\n",
    "    print('It is moderately negatively skewed!')\n",
    "elif skewness <= 1:\n",
    "    print('It is highly negatively skewed!')\n",
    "else:\n",
    "    print('It is not skewed!')"
   ]
  }
 ],
 "metadata": {
  "colab": {
   "provenance": []
  },
  "kernelspec": {
   "display_name": "Python 3 (ipykernel)",
   "language": "python",
   "name": "python3"
  },
  "language_info": {
   "codemirror_mode": {
    "name": "ipython",
    "version": 3
   },
   "file_extension": ".py",
   "mimetype": "text/x-python",
   "name": "python",
   "nbconvert_exporter": "python",
   "pygments_lexer": "ipython3",
   "version": "3.11.4"
  }
 },
 "nbformat": 4,
 "nbformat_minor": 5
}
