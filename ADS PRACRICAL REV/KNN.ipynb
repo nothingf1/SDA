{
 "cells": [
  {
   "cell_type": "code",
   "execution_count": 25,
   "id": "92d6e4bd-5ef9-42eb-b034-8551813dbffb",
   "metadata": {},
   "outputs": [],
   "source": [
    "import pandas as pd\n",
    "import numpy as np\n",
    "import matplotlib.pyplot as plt"
   ]
  },
  {
   "cell_type": "code",
   "execution_count": 36,
   "id": "ef3d0917-701e-476a-91f7-f7df51c5de79",
   "metadata": {},
   "outputs": [],
   "source": [
    "def detect_anomaly(data_array, k, threshold):\n",
    "    anomalies = []\n",
    "    data = np.array(data_array)\n",
    "    for i, points in enumerate(data):\n",
    "        distance = np.abs(data - points)\n",
    "        distance.sort()\n",
    "        k_ner = distance[1:k+1]\n",
    "        mean_dist = np.mean(k_ner)\n",
    "        if mean_dist > threshold:\n",
    "            anomalies.append(points)\n",
    "    return anomalies"
   ]
  },
  {
   "cell_type": "code",
   "execution_count": 37,
   "id": "7df43dd7-85a9-476c-a2ed-73df4e6eba5c",
   "metadata": {},
   "outputs": [],
   "source": [
    "df = pd.read_csv('MARKS2.csv')"
   ]
  },
  {
   "cell_type": "code",
   "execution_count": 38,
   "id": "f22cd58e-cc35-4fc7-b02b-9d290e308ddf",
   "metadata": {},
   "outputs": [
    {
     "data": {
      "text/html": [
       "<div>\n",
       "<style scoped>\n",
       "    .dataframe tbody tr th:only-of-type {\n",
       "        vertical-align: middle;\n",
       "    }\n",
       "\n",
       "    .dataframe tbody tr th {\n",
       "        vertical-align: top;\n",
       "    }\n",
       "\n",
       "    .dataframe thead th {\n",
       "        text-align: right;\n",
       "    }\n",
       "</style>\n",
       "<table border=\"1\" class=\"dataframe\">\n",
       "  <thead>\n",
       "    <tr style=\"text-align: right;\">\n",
       "      <th></th>\n",
       "      <th>ROLL NO</th>\n",
       "      <th>NAME</th>\n",
       "      <th>ADS</th>\n",
       "      <th>SMA</th>\n",
       "      <th>DC</th>\n",
       "      <th>EM</th>\n",
       "      <th>TOTAL</th>\n",
       "      <th>CLASS</th>\n",
       "    </tr>\n",
       "  </thead>\n",
       "  <tbody>\n",
       "    <tr>\n",
       "      <th>0</th>\n",
       "      <td>1</td>\n",
       "      <td>LEENA</td>\n",
       "      <td>50</td>\n",
       "      <td>40</td>\n",
       "      <td>50</td>\n",
       "      <td>60</td>\n",
       "      <td>200</td>\n",
       "      <td>PASS</td>\n",
       "    </tr>\n",
       "    <tr>\n",
       "      <th>1</th>\n",
       "      <td>2</td>\n",
       "      <td>REENA</td>\n",
       "      <td>40</td>\n",
       "      <td>40</td>\n",
       "      <td>150</td>\n",
       "      <td>80</td>\n",
       "      <td>210</td>\n",
       "      <td>PASS</td>\n",
       "    </tr>\n",
       "    <tr>\n",
       "      <th>2</th>\n",
       "      <td>3</td>\n",
       "      <td>SEENA</td>\n",
       "      <td>30</td>\n",
       "      <td>30</td>\n",
       "      <td>70</td>\n",
       "      <td>130</td>\n",
       "      <td>120</td>\n",
       "      <td>FAIL</td>\n",
       "    </tr>\n",
       "    <tr>\n",
       "      <th>3</th>\n",
       "      <td>4</td>\n",
       "      <td>MEENA</td>\n",
       "      <td>10</td>\n",
       "      <td>110</td>\n",
       "      <td>50</td>\n",
       "      <td>50</td>\n",
       "      <td>120</td>\n",
       "      <td>FAIL</td>\n",
       "    </tr>\n",
       "    <tr>\n",
       "      <th>4</th>\n",
       "      <td>5</td>\n",
       "      <td>JEENA</td>\n",
       "      <td>50</td>\n",
       "      <td>50</td>\n",
       "      <td>50</td>\n",
       "      <td>50</td>\n",
       "      <td>200</td>\n",
       "      <td>PASS</td>\n",
       "    </tr>\n",
       "  </tbody>\n",
       "</table>\n",
       "</div>"
      ],
      "text/plain": [
       "   ROLL NO  NAME   ADS  SMA   DC   EM  TOTAL CLASS\n",
       "0        1  LEENA   50   40   50   60    200  PASS\n",
       "1        2  REENA   40   40  150   80    210  PASS\n",
       "2        3  SEENA   30   30   70  130    120  FAIL\n",
       "3        4  MEENA   10  110   50   50    120  FAIL\n",
       "4        5  JEENA   50   50   50   50    200  PASS"
      ]
     },
     "execution_count": 38,
     "metadata": {},
     "output_type": "execute_result"
    }
   ],
   "source": [
    "df.head()"
   ]
  },
  {
   "cell_type": "code",
   "execution_count": 39,
   "id": "6ea5cfb5-3eb5-4903-b8f2-a0f6748c4486",
   "metadata": {},
   "outputs": [],
   "source": [
    "data_array = df['ADS']"
   ]
  },
  {
   "cell_type": "code",
   "execution_count": 40,
   "id": "85fd948f-64ab-4569-b61b-32e1108dd7e5",
   "metadata": {},
   "outputs": [],
   "source": [
    "anomalies = detect_anomaly(data_array, k=2, threshold=10)\n",
    "normal_pts = [point for point in data if point not in anomalies]"
   ]
  },
  {
   "cell_type": "code",
   "execution_count": 42,
   "id": "0303ede0-ad1f-4982-b69e-e24588a5c5f7",
   "metadata": {},
   "outputs": [
    {
     "data": {
      "text/plain": [
       "[<matplotlib.lines.Line2D at 0x27a621b11d0>]"
      ]
     },
     "execution_count": 42,
     "metadata": {},
     "output_type": "execute_result"
    },
    {
     "data": {
      "image/png": "[encoded data removed]",
      "text/plain": [
       "<Figure size 640x480 with 1 Axes>"
      ]
     },
     "metadata": {},
     "output_type": "display_data"
    }
   ],
   "source": [
    "plt.plot(normal_pts, 'o')\n",
    "plt.plot(anomalies, 'x', color='red')"
   ]
  },
  {
   "cell_type": "code",
   "execution_count": null,
   "id": "1032d951-80f6-447b-8d66-49f3a08914b8",
   "metadata": {},
   "outputs": [],
   "source": []
  }
 ],
 "metadata": {
  "kernelspec": {
   "display_name": "Python 3 (ipykernel)",
   "language": "python",
   "name": "python3"
  },
  "language_info": {
   "codemirror_mode": {
    "name": "ipython",
    "version": 3
   },
   "file_extension": ".py",
   "mimetype": "text/x-python",
   "name": "python",
   "nbconvert_exporter": "python",
   "pygments_lexer": "ipython3",
   "version": "3.11.4"
  }
 },
 "nbformat": 4,
 "nbformat_minor": 5
}
