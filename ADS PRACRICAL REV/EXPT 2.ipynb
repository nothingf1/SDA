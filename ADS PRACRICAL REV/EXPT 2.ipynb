{
 "cells": [
  {
   "cell_type": "code",
   "execution_count": 1,
   "id": "e6ebd075-e52a-45f1-8644-2a25baee3ff5",
   "metadata": {},
   "outputs": [],
   "source": [
    "import pandas as pd\n",
    "from statistics import variance\n",
    "from statistics import stdev"
   ]
  },
  {
   "cell_type": "code",
   "execution_count": 2,
   "id": "bfff4ff7-fcd8-4e22-bf14-aad0a0f99512",
   "metadata": {},
   "outputs": [
    {
     "name": "stderr",
     "output_type": "stream",
     "text": [
      "C:\\Users\\HEMANT\\AppData\\Local\\Temp\\ipykernel_25348\\3081619992.py:1: DtypeWarning: Columns (6) have mixed types. Specify dtype option on import or set low_memory=False.\n",
      "  df = pd.read_csv(\"UBER DATA.csv\")\n"
     ]
    }
   ],
   "source": [
    "df = pd.read_csv(\"UBER DATA.csv\")"
   ]
  },
  {
   "cell_type": "code",
   "execution_count": 3,
   "id": "f40b3753-7cff-4247-a377-32b3b6148852",
   "metadata": {},
   "outputs": [
    {
     "data": {
      "text/html": [
       "<div>\n",
       "<style scoped>\n",
       "    .dataframe tbody tr th:only-of-type {\n",
       "        vertical-align: middle;\n",
       "    }\n",
       "\n",
       "    .dataframe tbody tr th {\n",
       "        vertical-align: top;\n",
       "    }\n",
       "\n",
       "    .dataframe thead th {\n",
       "        text-align: right;\n",
       "    }\n",
       "</style>\n",
       "<table border=\"1\" class=\"dataframe\">\n",
       "  <thead>\n",
       "    <tr style=\"text-align: right;\">\n",
       "      <th></th>\n",
       "      <th>VendorID</th>\n",
       "      <th>tpep_pickup_datetime</th>\n",
       "      <th>tpep_dropoff_datetime</th>\n",
       "      <th>passenger_count</th>\n",
       "      <th>trip_distance</th>\n",
       "      <th>RatecodeID</th>\n",
       "      <th>store_and_fwd_flag</th>\n",
       "      <th>PULocationID</th>\n",
       "      <th>DOLocationID</th>\n",
       "      <th>payment_type</th>\n",
       "      <th>fare_amount</th>\n",
       "      <th>extra</th>\n",
       "      <th>mta_tax</th>\n",
       "      <th>tip_amount</th>\n",
       "      <th>tolls_amount</th>\n",
       "      <th>improvement_surcharge</th>\n",
       "      <th>total_amount</th>\n",
       "      <th>congestion_surcharge</th>\n",
       "      <th>Airport_fee</th>\n",
       "    </tr>\n",
       "  </thead>\n",
       "  <tbody>\n",
       "    <tr>\n",
       "      <th>0</th>\n",
       "      <td>1</td>\n",
       "      <td>2023-11-01 00:03:03</td>\n",
       "      <td>2023-11-01 01:04:08</td>\n",
       "      <td>2.0</td>\n",
       "      <td>13.60</td>\n",
       "      <td>1.0</td>\n",
       "      <td>N</td>\n",
       "      <td>132</td>\n",
       "      <td>26</td>\n",
       "      <td>2</td>\n",
       "      <td>61.8</td>\n",
       "      <td>2.75</td>\n",
       "      <td>0.5</td>\n",
       "      <td>0.00</td>\n",
       "      <td>0.00</td>\n",
       "      <td>1.0</td>\n",
       "      <td>66.05</td>\n",
       "      <td>0.0</td>\n",
       "      <td>1.75</td>\n",
       "    </tr>\n",
       "    <tr>\n",
       "      <th>1</th>\n",
       "      <td>1</td>\n",
       "      <td>2023-11-01 00:03:28</td>\n",
       "      <td>2023-11-01 00:23:59</td>\n",
       "      <td>0.0</td>\n",
       "      <td>3.50</td>\n",
       "      <td>1.0</td>\n",
       "      <td>N</td>\n",
       "      <td>140</td>\n",
       "      <td>7</td>\n",
       "      <td>1</td>\n",
       "      <td>20.5</td>\n",
       "      <td>3.50</td>\n",
       "      <td>0.5</td>\n",
       "      <td>5.10</td>\n",
       "      <td>0.00</td>\n",
       "      <td>1.0</td>\n",
       "      <td>30.60</td>\n",
       "      <td>2.5</td>\n",
       "      <td>0.00</td>\n",
       "    </tr>\n",
       "    <tr>\n",
       "      <th>2</th>\n",
       "      <td>2</td>\n",
       "      <td>2023-10-31 23:58:05</td>\n",
       "      <td>2023-11-01 00:54:03</td>\n",
       "      <td>4.0</td>\n",
       "      <td>18.61</td>\n",
       "      <td>2.0</td>\n",
       "      <td>N</td>\n",
       "      <td>132</td>\n",
       "      <td>230</td>\n",
       "      <td>1</td>\n",
       "      <td>70.0</td>\n",
       "      <td>0.00</td>\n",
       "      <td>0.5</td>\n",
       "      <td>16.54</td>\n",
       "      <td>6.94</td>\n",
       "      <td>1.0</td>\n",
       "      <td>99.23</td>\n",
       "      <td>2.5</td>\n",
       "      <td>1.75</td>\n",
       "    </tr>\n",
       "    <tr>\n",
       "      <th>3</th>\n",
       "      <td>2</td>\n",
       "      <td>2023-11-01 00:03:50</td>\n",
       "      <td>2023-11-01 00:04:59</td>\n",
       "      <td>1.0</td>\n",
       "      <td>0.39</td>\n",
       "      <td>1.0</td>\n",
       "      <td>N</td>\n",
       "      <td>236</td>\n",
       "      <td>236</td>\n",
       "      <td>1</td>\n",
       "      <td>4.4</td>\n",
       "      <td>1.00</td>\n",
       "      <td>0.5</td>\n",
       "      <td>1.88</td>\n",
       "      <td>0.00</td>\n",
       "      <td>1.0</td>\n",
       "      <td>11.28</td>\n",
       "      <td>2.5</td>\n",
       "      <td>0.00</td>\n",
       "    </tr>\n",
       "    <tr>\n",
       "      <th>4</th>\n",
       "      <td>2</td>\n",
       "      <td>2023-11-01 00:06:30</td>\n",
       "      <td>2023-11-01 00:14:25</td>\n",
       "      <td>1.0</td>\n",
       "      <td>1.20</td>\n",
       "      <td>1.0</td>\n",
       "      <td>N</td>\n",
       "      <td>236</td>\n",
       "      <td>141</td>\n",
       "      <td>1</td>\n",
       "      <td>10.0</td>\n",
       "      <td>1.00</td>\n",
       "      <td>0.5</td>\n",
       "      <td>3.00</td>\n",
       "      <td>0.00</td>\n",
       "      <td>1.0</td>\n",
       "      <td>18.00</td>\n",
       "      <td>2.5</td>\n",
       "      <td>0.00</td>\n",
       "    </tr>\n",
       "  </tbody>\n",
       "</table>\n",
       "</div>"
      ],
      "text/plain": [
       "   VendorID tpep_pickup_datetime tpep_dropoff_datetime  passenger_count  \\\n",
       "0         1  2023-11-01 00:03:03   2023-11-01 01:04:08              2.0   \n",
       "1         1  2023-11-01 00:03:28   2023-11-01 00:23:59              0.0   \n",
       "2         2  2023-10-31 23:58:05   2023-11-01 00:54:03              4.0   \n",
       "3         2  2023-11-01 00:03:50   2023-11-01 00:04:59              1.0   \n",
       "4         2  2023-11-01 00:06:30   2023-11-01 00:14:25              1.0   \n",
       "\n",
       "   trip_distance  RatecodeID store_and_fwd_flag  PULocationID  DOLocationID  \\\n",
       "0          13.60         1.0                  N           132            26   \n",
       "1           3.50         1.0                  N           140             7   \n",
       "2          18.61         2.0                  N           132           230   \n",
       "3           0.39         1.0                  N           236           236   \n",
       "4           1.20         1.0                  N           236           141   \n",
       "\n",
       "   payment_type  fare_amount  extra  mta_tax  tip_amount  tolls_amount  \\\n",
       "0             2         61.8   2.75      0.5        0.00          0.00   \n",
       "1             1         20.5   3.50      0.5        5.10          0.00   \n",
       "2             1         70.0   0.00      0.5       16.54          6.94   \n",
       "3             1          4.4   1.00      0.5        1.88          0.00   \n",
       "4             1         10.0   1.00      0.5        3.00          0.00   \n",
       "\n",
       "   improvement_surcharge  total_amount  congestion_surcharge  Airport_fee  \n",
       "0                    1.0         66.05                   0.0         1.75  \n",
       "1                    1.0         30.60                   2.5         0.00  \n",
       "2                    1.0         99.23                   2.5         1.75  \n",
       "3                    1.0         11.28                   2.5         0.00  \n",
       "4                    1.0         18.00                   2.5         0.00  "
      ]
     },
     "execution_count": 3,
     "metadata": {},
     "output_type": "execute_result"
    }
   ],
   "source": [
    "df.head()"
   ]
  },
  {
   "cell_type": "code",
   "execution_count": 4,
   "id": "0ff03be7-e2a5-4d06-9858-f3be76e0cc51",
   "metadata": {},
   "outputs": [
    {
     "name": "stderr",
     "output_type": "stream",
     "text": [
      "C:\\Users\\HEMANT\\AppData\\Local\\Temp\\ipykernel_25348\\1093829506.py:1: DtypeWarning: Columns (6) have mixed types. Specify dtype option on import or set low_memory=False.\n",
      "  data =  pd.read_csv(\"UBER DATA.csv\")[['trip_distance', 'fare_amount', 'extra', 'tip_amount', 'tolls_amount', 'total_amount']]\n"
     ]
    }
   ],
   "source": [
    "data =  pd.read_csv(\"UBER DATA.csv\")[['trip_distance', 'fare_amount', 'extra', 'tip_amount', 'tolls_amount', 'total_amount']]"
   ]
  },
  {
   "cell_type": "markdown",
   "id": "59dcbe6f-151a-452b-865c-c1cbe40d53c4",
   "metadata": {},
   "source": [
    "Mean Meadian Mode"
   ]
  },
  {
   "cell_type": "code",
   "execution_count": 5,
   "id": "f9c05121-b423-4f8a-b843-857a4853717c",
   "metadata": {},
   "outputs": [
    {
     "name": "stdout",
     "output_type": "stream",
     "text": [
      "Mean of the   Dataset\n",
      "trip_distance     3.632742\n",
      "fare_amount      19.651354\n",
      "extra             1.493291\n",
      "tip_amount        3.618372\n",
      "tolls_amount      0.603468\n",
      "total_amount     28.695766\n",
      "dtype: float64\n",
      "\n",
      "**\n",
      "Median of the  Dataset\n",
      "trip_distance     1.70\n",
      "fare_amount      14.20\n",
      "extra             1.00\n",
      "tip_amount        2.88\n",
      "tolls_amount      0.00\n",
      "total_amount     21.39\n",
      "dtype: float64\n",
      "\n",
      "**\n",
      "Mode of the  Dataset\n",
      "   trip_distance  fare_amount  extra  tip_amount  tolls_amount  total_amount\n",
      "0            0.0          9.3    0.0         0.0           0.0          16.8\n",
      "\n",
      "**\n"
     ]
    }
   ],
   "source": [
    "print(\"Mean of the   Dataset\")\n",
    "print(data.mean())\n",
    "print(\"\\n**\")\n",
    "print(\"Median of the  Dataset\")\n",
    "print(data.median())\n",
    "print(\"\\n**\")\n",
    "print(\"Mode of the  Dataset\")\n",
    "print(data.mode())\n",
    "print(\"\\n**\")"
   ]
  },
  {
   "cell_type": "markdown",
   "id": "3bc1241d-1e49-4456-b216-1d9f28973917",
   "metadata": {},
   "source": [
    "Calculating Range"
   ]
  },
  {
   "cell_type": "code",
   "execution_count": 6,
   "id": "f78040bf-aab3-42cd-b9c8-66c086b65925",
   "metadata": {},
   "outputs": [
    {
     "name": "stdout",
     "output_type": "stream",
     "text": [
      "Range 2599.59\n"
     ]
    }
   ],
   "source": [
    "max = data['fare_amount'].max()\n",
    "min = data['fare_amount'].min()\n",
    "\n",
    "Range = max-min\n",
    "print(\"Range\", Range)"
   ]
  },
  {
   "cell_type": "markdown",
   "id": "e34ce410-741c-4756-84ab-b3baacfd6826",
   "metadata": {},
   "source": [
    "Variance & Standard Deviation"
   ]
  },
  {
   "cell_type": "code",
   "execution_count": 7,
   "id": "6b0c0dab-b9c6-496f-8206-0f1661cfc9fc",
   "metadata": {},
   "outputs": [
    {
     "name": "stdout",
     "output_type": "stream",
     "text": [
      "Variance: 350.52767160716263\n",
      "Standard deviation: 18.722384239384752\n"
     ]
    }
   ],
   "source": [
    "variance = variance(data['fare_amount'])\n",
    "standard_deviation = stdev(data['fare_amount'])\n",
    "\n",
    "# Print the results\n",
    "print(\"Variance:\", variance)\n",
    "print(\"Standard deviation:\", standard_deviation)"
   ]
  },
  {
   "cell_type": "markdown",
   "id": "fc4d5e1c-c4c8-4edf-b1b2-a5f57a689951",
   "metadata": {},
   "source": [
    "Skewness"
   ]
  },
  {
   "cell_type": "code",
   "execution_count": 8,
   "id": "a1ba8940-8492-4601-8b9b-1b157742ea3f",
   "metadata": {},
   "outputs": [],
   "source": [
    "#Skewness\n",
    "mean = data['fare_amount'].mean()\n",
    "median = data['fare_amount'].median()\n",
    "std = stdev(data['fare_amount'])\n",
    "\n",
    "skew = 3*(mean-median)/std"
   ]
  },
  {
   "cell_type": "code",
   "execution_count": 9,
   "id": "6dce3c78-ae00-4d23-9810-cfe32e248ace",
   "metadata": {},
   "outputs": [
    {
     "name": "stdout",
     "output_type": "stream",
     "text": [
      "0.8735031567936785\n"
     ]
    }
   ],
   "source": [
    "print(skew)"
   ]
  }
 ],
 "metadata": {
  "kernelspec": {
   "display_name": "Python 3 (ipykernel)",
   "language": "python",
   "name": "python3"
  },
  "language_info": {
   "codemirror_mode": {
    "name": "ipython",
    "version": 3
   },
   "file_extension": ".py",
   "mimetype": "text/x-python",
   "name": "python",
   "nbconvert_exporter": "python",
   "pygments_lexer": "ipython3",
   "version": "3.11.4"
  }
 },
 "nbformat": 4,
 "nbformat_minor": 5
}
